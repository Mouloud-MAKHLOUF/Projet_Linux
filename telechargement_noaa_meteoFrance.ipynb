{
 "cells": [
  {
   "cell_type": "code",
   "execution_count": 63,
   "id": "794a8d6d",
   "metadata": {},
   "outputs": [
    {
     "data": {
      "text/plain": [
       "'C:\\\\Users\\\\ouikene\\\\desktop\\\\Meteo_france'"
      ]
     },
     "execution_count": 63,
     "metadata": {},
     "output_type": "execute_result"
    }
   ],
   "source": [
    "import requests\n",
    "from requests.auth import HTTPBasicAuth\n",
    "import requests\n",
    "from datetime import datetime\n",
    "import os\n",
    "from rasterio import open as raster_open\n",
    "import matplotlib.pyplot as plt\n",
    "os.chdir('C:\\\\Users\\\\ouikene\\\\desktop\\\\Meteo_france')\n",
    "os.getcwd()"
   ]
  },
  {
   "cell_type": "code",
   "execution_count": 64,
   "id": "53aaf482",
   "metadata": {
    "scrolled": false
   },
   "outputs": [
    {
     "name": "stdout",
     "output_type": "stream",
     "text": [
      "2024-02-21\n",
      "https://public-api.meteofrance.fr/previnum/DPPaquetARPEGE/v1/models/ARPEGE/grids/0.1/packages/HP1/productARP?referencetime=2024-02-21T00%3A00%3A00Z&time=000H012H&format=grib2\n",
      "https://public-api.meteofrance.fr/previnum/DPPaquetARPEGE/v1/models/ARPEGE/grids/0.1/packages/HP1/productARP?referencetime=2024-02-21T00%3A00%3A00Z&time=000H012H&format=grib2\n",
      "GRIB file saved successfully.\n"
     ]
    }
   ],
   "source": [
    "# Current datetime\n",
    "current_datetime = datetime.now()\n",
    "\n",
    "# Extract the date part and hour\n",
    "date_only = current_datetime.date()\n",
    "heure = current_datetime.hour\n",
    "\n",
    "# Determine forecast time based on current hour\n",
    "if heure < 6:\n",
    "    heure_prevision = \"00\"\n",
    "elif heure < 12:\n",
    "    heure_prevision = \"06\"\n",
    "elif heure < 18:\n",
    "    heure_prevision = \"12\"\n",
    "else:\n",
    "    heure_prevision = \"18\"\n",
    "\n",
    "# Package name\n",
    "nom_paquet = \"HP1\"\n",
    "\n",
    "# Echeance\n",
    "echeance = \"000H012H\"\n",
    "# API key (use your own valid API key here)\n",
    "apikey = \"eyJ4NXQiOiJZV0kxTTJZNE1qWTNOemsyTkRZeU5XTTRPV014TXpjek1UVmhNbU14T1RSa09ETXlOVEE0Tnc9PSIsImtpZCI6ImdhdGV3YXlfY2VydGlmaWNhdGVfYWxpYXMiLCJ0eXAiOiJKV1QiLCJhbGciOiJSUzI1NiJ9.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.ByvNcLX8LOf-nPXcgjba-nw0XgukTv2jP1uL2JkIb7xiIfZEwWPQzfI2SM6ACaGIxg7dZQPth4Dp9Mt7ePdxEmQnqPsuY4PMafoDOy9t7llHHr5jAMNGqDlW5OeBvpVsgrhGm_4zxSLqgxLbK64rjSDQeJ7KfpQe0Sd9dBvoOoUBXB4Pt4wFVpIi43Y6y75J-IGlWzgllOBzaMvquNIKj3Aqi2v7atXRnvobvGUZ8BS-vSzAen8p0rbyQQR5wGJZuu63OYk84ju_da1bDE_lxJJcBtUXEpWFHMG9bA1yg9fAangeI0169NiSOF3lpk9Ujt3euzu9aeU0-S67hTh37w==\"\n",
    "\n",
    "# Date for the forecast\n",
    "date_string = \"2024-02-21\"\n",
    "print(date_string)\n",
    "# URL for downloading Meteo France forecast data\n",
    "URL = f\"https://public-api.meteofrance.fr/previnum/DPPaquetARPEGE/v1/models/ARPEGE/grids/0.1/packages/{nom_paquet}/productARP?referencetime={date_string}T{heure_prevision}%3A00%3A00Z&time={echeance}&format=grib2\"\n",
    "\n",
    "print(URL)\n",
    "print('https://public-api.meteofrance.fr/previnum/DPPaquetARPEGE/v1/models/ARPEGE/grids/0.1/packages/HP1/productARP?referencetime=2024-02-21T00%3A00%3A00Z&time=000H012H&format=grib2')\n",
    "response = requests.get(URL, headers={\"apikey\": apikey})\n",
    "\n",
    "# Path to save the downloaded file\n",
    "nom_fichier = f\"DONNEES_METEO_FRANCE/donnees_meteo_france_{nom_paquet}_{date_string}T_{heure_prevision}t_echeance_{echeance}.grib2\"\n",
    "\n",
    "\n",
    "if response.ok:\n",
    "    # Save the content to a .grib2 file\n",
    "    with open(nom_fichier, 'wb') as file:\n",
    "        file.write(response.content)\n",
    "    print(\"GRIB file saved successfully.\")\n",
    "else:\n",
    "    print(\"Failed to fetch data.\")"
   ]
  },
  {
   "cell_type": "code",
   "execution_count": 9,
   "id": "5cf3f3e6",
   "metadata": {},
   "outputs": [
    {
     "data": {
      "text/plain": [
       "'C:\\\\Users\\\\ouikene\\\\desktop\\\\Meteo_france'"
      ]
     },
     "execution_count": 9,
     "metadata": {},
     "output_type": "execute_result"
    }
   ],
   "source": []
  },
  {
   "cell_type": "code",
   "execution_count": 55,
   "id": "6bbea83a",
   "metadata": {},
   "outputs": [
    {
     "name": "stdout",
     "output_type": "stream",
     "text": [
      "1\n",
      "00\n",
      "https://nomads.ncep.noaa.gov/cgi-bin/filter_gfs_0p25.pl?dir=%2Fgfs.20240221%2F06%2Fatmos&file=gfs.t06z.pgrb2.0p25.f000&all_var=on&all_lev=on\n",
      "GRIB file saved successfully.\n"
     ]
    }
   ],
   "source": [
    "import requests\n",
    "from datetime import datetime\n",
    "import rasterio\n",
    "import pandas as pd\n",
    "\n",
    "# Download data from NOAA\n",
    "def download_noaa_data(date, heure_prevision,nom_paquet):\n",
    "    url = f\"https://nomads.ncep.noaa.gov/cgi-bin/filter_gfs_0p25.pl?dir=%2Fgfs.{date}%2F{time}%2Fatmos&file=gfs.t06z.pgrb2.0p25.f000&all_var=on&all_lev=on\"\n",
    "    response = requests.get(url)\n",
    "    if response.status_code == 200:\n",
    "        with open(f\"DONNEES_NOAA/donnees_noaa_{nom_paquet}_{date}T_{heure_prevision}t_echeance_000\", \"wb\") as file:\n",
    "            file.write(response.content)\n",
    "        print(\"GRIB file saved successfully.\")\n",
    "    else:\n",
    "        print(\"Failed to fetch data.\", response.status_code)\n",
    "\n",
    "# Example usage\n",
    "#date = datetime.now().strftime(\"%Y%m%d\")\n",
    "date = \"20240221\"\n",
    "#time = \"06\"  # Example time, can be 0, 6, 12, 18\n",
    "nom_paquet=\"HP1\"\n",
    "heure=datetime.now().hour\n",
    "if heure <= 6:\n",
    "    heure_prevision = \"00\"\n",
    "elif heure <= 12:\n",
    "    heure_prevision = \"06\"\n",
    "elif heure <= 18:\n",
    "    heure_prevision = \"12\"\n",
    "else:\n",
    "    heure_prevision = \"12\"\n",
    "\n",
    "download_noaa_data(date, heure_prevision, nom_paquet)"
   ]
  },
  {
   "cell_type": "code",
   "execution_count": 39,
   "id": "6d126c3a",
   "metadata": {},
   "outputs": [
    {
     "data": {
      "text/plain": [
       "'C:\\\\Users\\\\ouikene\\\\desktop\\\\Meteo_france'"
      ]
     },
     "execution_count": 39,
     "metadata": {},
     "output_type": "execute_result"
    }
   ],
   "source": [
    "os.getcwd()"
   ]
  },
  {
   "cell_type": "code",
   "execution_count": 53,
   "id": "c02632b2",
   "metadata": {},
   "outputs": [
    {
     "name": "stdout",
     "output_type": "stream",
     "text": [
      "1\n",
      "00\n"
     ]
    }
   ],
   "source": []
  },
  {
   "cell_type": "code",
   "execution_count": null,
   "id": "3a7bcffa",
   "metadata": {},
   "outputs": [],
   "source": []
  }
 ],
 "metadata": {
  "kernelspec": {
   "display_name": "Python 3 (ipykernel)",
   "language": "python",
   "name": "python3"
  },
  "language_info": {
   "codemirror_mode": {
    "name": "ipython",
    "version": 3
   },
   "file_extension": ".py",
   "mimetype": "text/x-python",
   "name": "python",
   "nbconvert_exporter": "python",
   "pygments_lexer": "ipython3",
   "version": "3.11.5"
  }
 },
 "nbformat": 4,
 "nbformat_minor": 5
}
